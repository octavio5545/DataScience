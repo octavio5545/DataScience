{
 "cells": [
  {
   "cell_type": "markdown",
   "metadata": {},
   "source": [
    "# Ejercicios para regresión lineal"
   ]
  },
  {
   "cell_type": "markdown",
   "metadata": {},
   "source": [
    "Vamos a poner en práctica lo que hemos visto en las clases pasadas. De entrada, cargamos las bibliotecas necesarias"
   ]
  },
  {
   "cell_type": "code",
   "execution_count": 1,
   "metadata": {},
   "outputs": [],
   "source": [
    "import numpy as np\n",
    "import pandas as pd\n",
    "import matplotlib.pyplot as plt\n",
    "import statsmodels.formula.api as smf\n",
    "from time import time\n",
    "\n",
    "#Las siguientes dos son sólo para que las gráficas se vean chulas, pueden quitarlas\n",
    "import seaborn as sns\n",
    "sns.set()\n",
    "\n",
    "from score import QLFScore\n",
    "\n",
    "#Para desactivar un warning muy molesto\n",
    "pd.options.mode.chained_assignment = None  # default='warn'"
   ]
  },
  {
   "cell_type": "markdown",
   "metadata": {},
   "source": [
    "## Regresión lineal univariada"
   ]
  },
  {
   "cell_type": "markdown",
   "metadata": {},
   "source": [
    "Considere el problema siguiente: Usted quiere estimar la constante de elasticidad $k$ de un resorte que genera una oscilación en una pelotita de masa $m = 12kg$. La ecuación de su movimiento está dada por\n",
    "\n",
    "$$\\frac{\\partial^2 x(t)}{\\partial t^2} = -\\frac{k}{m} (x(t) - x_0)$$\n",
    "\n",
    "A usted le han sido proporcionados las mediciones de la posición de la pelotita al tiempo $t$, pero vienen con un poco de ruido gaussiano en las coordenadas de la posición. Aproveche que las mediciones fueron tomadas a tiempos regulares y use la apoximación del operador de Laplace con errores a segundo orden:\n",
    "\n",
    "$$ f''(t) \\approx \\frac{f(t + \\Delta t) - 2 f(t) + f(t - \\Delta t)}{\\Delta t^2} + \\mathcal{O}(\\Delta t^2)$$\n",
    "\n",
    "para estimar $k$ y $x_0$ por medio de una regresión lineal. Haga gráficas de dispersión para la aceleración y la posición, además de graficar la linea que mejor aproxima los datos."
   ]
  },
  {
   "cell_type": "code",
   "execution_count": 2,
   "metadata": {},
   "outputs": [
    {
     "data": {
      "text/html": [
       "<div>\n",
       "<style scoped>\n",
       "    .dataframe tbody tr th:only-of-type {\n",
       "        vertical-align: middle;\n",
       "    }\n",
       "\n",
       "    .dataframe tbody tr th {\n",
       "        vertical-align: top;\n",
       "    }\n",
       "\n",
       "    .dataframe thead th {\n",
       "        text-align: right;\n",
       "    }\n",
       "</style>\n",
       "<table border=\"1\" class=\"dataframe\">\n",
       "  <thead>\n",
       "    <tr style=\"text-align: right;\">\n",
       "      <th></th>\n",
       "      <th>Posición</th>\n",
       "      <th>Tiempo</th>\n",
       "    </tr>\n",
       "  </thead>\n",
       "  <tbody>\n",
       "    <tr>\n",
       "      <th>0</th>\n",
       "      <td>11.499958</td>\n",
       "      <td>0.000000</td>\n",
       "    </tr>\n",
       "    <tr>\n",
       "      <th>1</th>\n",
       "      <td>11.499788</td>\n",
       "      <td>0.013333</td>\n",
       "    </tr>\n",
       "    <tr>\n",
       "      <th>2</th>\n",
       "      <td>11.499258</td>\n",
       "      <td>0.026667</td>\n",
       "    </tr>\n",
       "    <tr>\n",
       "      <th>3</th>\n",
       "      <td>11.498414</td>\n",
       "      <td>0.040000</td>\n",
       "    </tr>\n",
       "    <tr>\n",
       "      <th>4</th>\n",
       "      <td>11.497071</td>\n",
       "      <td>0.053333</td>\n",
       "    </tr>\n",
       "  </tbody>\n",
       "</table>\n",
       "</div>"
      ],
      "text/plain": [
       "    Posición    Tiempo\n",
       "0  11.499958  0.000000\n",
       "1  11.499788  0.013333\n",
       "2  11.499258  0.026667\n",
       "3  11.498414  0.040000\n",
       "4  11.497071  0.053333"
      ]
     },
     "execution_count": 2,
     "metadata": {},
     "output_type": "execute_result"
    }
   ],
   "source": [
    "#Les dejo mientras tanto los datos para que los vean\n",
    "datos = pd.read_csv('data.csv')\n",
    "df = pd.DataFrame(datos)\n",
    "df.head()"
   ]
  },
  {
   "cell_type": "code",
   "execution_count": 3,
   "metadata": {},
   "outputs": [
    {
     "data": {
      "text/plain": [
       "(301, 2)"
      ]
     },
     "execution_count": 3,
     "metadata": {},
     "output_type": "execute_result"
    }
   ],
   "source": [
    "df.shape"
   ]
  },
  {
   "cell_type": "markdown",
   "metadata": {},
   "source": [
    "### Cálculo de la aceleración"
   ]
  },
  {
   "cell_type": "code",
   "execution_count": 4,
   "metadata": {},
   "outputs": [],
   "source": [
    "\"\"\"\n",
    "#Corrobora incrementos regulares de tiempo\n",
    "deltas_t = []\n",
    "for i in range(1, datos.shape[0]):\n",
    "    delta_t = datos['Tiempo'][i] - datos['Tiempo'][i-1]\n",
    "    deltas_t.append(delta_t)\n",
    "delt = pd.Series(deltas_t)\n",
    "delt\n",
    "\n",
    "\"\"\" ;"
   ]
  },
  {
   "cell_type": "markdown",
   "metadata": {},
   "source": [
    "Como los tiempos son regulares ($~\\Delta t = 0.013333~$), usando la aproximación de Laplace:\n",
    "\n",
    "$$\\frac{\\ d^2 x(t)}{\\ dt^2} = -\\frac{k}{m} (x(t) - x_0)$$\n",
    "\n",
    "$$ \\frac{\\ d^2 x(t)}{\\ dt^2}  \\approx \\frac{x(t + \\Delta t) - 2 x(t) + x(t - \\Delta t)}{\\Delta t^2} + \\mathcal{O}(\\Delta t^2)$$\n",
    "\n",
    "Como la fórmula de la aproximación requiere $~x(t-\\Delta t)~$ y $~x(t+\\Delta t)~$ empezaremos  con el índice 1 de las posiciones (haremos $a=0$ para $t=0$) y terminamos en el íncdice 300 (son 301 posiciones)."
   ]
  },
  {
   "cell_type": "code",
   "execution_count": 5,
   "metadata": {},
   "outputs": [],
   "source": [
    "acel = [0] \n",
    "for i in range(1,df.shape[0]-1): \n",
    "    acel.append( (df.Posición[i+1] - 2*df.Posición[i] + df.Posición[i-1] ) / (0.013333)**2)"
   ]
  },
  {
   "cell_type": "code",
   "execution_count": 6,
   "metadata": {},
   "outputs": [],
   "source": [
    "acel = pd.Series(acel, name='Aceleración')\n",
    "df = df.join(acel)"
   ]
  },
  {
   "cell_type": "code",
   "execution_count": 7,
   "metadata": {},
   "outputs": [
    {
     "data": {
      "text/html": [
       "<div>\n",
       "<style scoped>\n",
       "    .dataframe tbody tr th:only-of-type {\n",
       "        vertical-align: middle;\n",
       "    }\n",
       "\n",
       "    .dataframe tbody tr th {\n",
       "        vertical-align: top;\n",
       "    }\n",
       "\n",
       "    .dataframe thead th {\n",
       "        text-align: right;\n",
       "    }\n",
       "</style>\n",
       "<table border=\"1\" class=\"dataframe\">\n",
       "  <thead>\n",
       "    <tr style=\"text-align: right;\">\n",
       "      <th></th>\n",
       "      <th>Posición</th>\n",
       "      <th>Tiempo</th>\n",
       "      <th>Aceleración</th>\n",
       "    </tr>\n",
       "  </thead>\n",
       "  <tbody>\n",
       "    <tr>\n",
       "      <th>0</th>\n",
       "      <td>11.499958</td>\n",
       "      <td>0.000000</td>\n",
       "      <td>0.000000</td>\n",
       "    </tr>\n",
       "    <tr>\n",
       "      <th>1</th>\n",
       "      <td>11.499788</td>\n",
       "      <td>0.013333</td>\n",
       "      <td>-2.027559</td>\n",
       "    </tr>\n",
       "    <tr>\n",
       "      <th>2</th>\n",
       "      <td>11.499258</td>\n",
       "      <td>0.026667</td>\n",
       "      <td>-1.760940</td>\n",
       "    </tr>\n",
       "    <tr>\n",
       "      <th>3</th>\n",
       "      <td>11.498414</td>\n",
       "      <td>0.040000</td>\n",
       "      <td>-2.809054</td>\n",
       "    </tr>\n",
       "    <tr>\n",
       "      <th>4</th>\n",
       "      <td>11.497071</td>\n",
       "      <td>0.053333</td>\n",
       "      <td>-1.923630</td>\n",
       "    </tr>\n",
       "  </tbody>\n",
       "</table>\n",
       "</div>"
      ],
      "text/plain": [
       "    Posición    Tiempo  Aceleración\n",
       "0  11.499958  0.000000     0.000000\n",
       "1  11.499788  0.013333    -2.027559\n",
       "2  11.499258  0.026667    -1.760940\n",
       "3  11.498414  0.040000    -2.809054\n",
       "4  11.497071  0.053333    -1.923630"
      ]
     },
     "execution_count": 7,
     "metadata": {},
     "output_type": "execute_result"
    }
   ],
   "source": [
    "df.head()"
   ]
  },
  {
   "cell_type": "markdown",
   "metadata": {},
   "source": [
    "### Gráficas de posición y aceleración"
   ]
  },
  {
   "cell_type": "code",
   "execution_count": 8,
   "metadata": {},
   "outputs": [
    {
     "data": {
      "image/png": "[encoded data removed]",
      "text/plain": [
       "<Figure size 1296x288 with 3 Axes>"
      ]
     },
     "metadata": {
      "needs_background": "light"
     },
     "output_type": "display_data"
    }
   ],
   "source": [
    "# Gráficas\n",
    "plt.figure(figsize=(18,4))\n",
    "\n",
    "t = df['Tiempo']\n",
    "x = df['Posición']\n",
    "a = df['Aceleración']\n",
    "\n",
    "plt.subplot(1,3,1)\n",
    "plt.scatter(t,x)\n",
    "plt.title('Posición vs Tiempo', size=15)\n",
    "plt.xlabel('Tiempo  t')\n",
    "plt.ylabel('Posición  x')\n",
    "\n",
    "plt.subplot(1,3,2)\n",
    "plt.scatter(t,a)\n",
    "plt.title('Aceleración vs Tiempo', size=15)\n",
    "plt.xlabel('Tiempo  t')\n",
    "plt.ylabel('Aceleración  a')\n",
    "\n",
    "plt.subplot(1,3,3)\n",
    "plt.scatter(a,x)\n",
    "plt.title('Aceleración vs Posición', size=15)\n",
    "plt.xlabel('Posición  x')\n",
    "plt.ylabel('Aceleración  a')\n",
    "\n",
    "plt.show()"
   ]
  },
  {
   "cell_type": "markdown",
   "metadata": {},
   "source": [
    "### Aproximación lineal"
   ]
  },
  {
   "cell_type": "markdown",
   "metadata": {},
   "source": [
    "Buscaremos la recta que mejor se ajusta a los datos de aceleración. Para esto calculamos los valores de la pendiente y ordenada al origen ($m_a~$ y $~b_a$):\n",
    "\n",
    "Donde\n",
    "\n",
    "$$ m_a = \\frac{n \\left(\\sum_{i=1}^n x_i~a_i \\right) - \\left(\\sum_{i=1}^n x_i \\right) \\left(\\sum_{i=1}^n a_i \\right)}{n \\sum_{i=1}^n x_i^2 - \\left(\\sum_{i=1}^n x_i \\right)^2} $$\n",
    "\n",
    "$$ b_a = \\frac{\\left(\\sum_{i=1}^n x_i^2 \\right) \\left(\\sum_{i=1}^n a_i \\right) - \\left( \\sum_{i=1}^n x_i \\right) \\left( \\sum_{i=1}^n x_i~a_i\\right)}{n \\sum_{i=1}^n x_i^2 - \\left(\\sum_{i=1}^n x_i \\right)^2} $$"
   ]
  },
  {
   "cell_type": "code",
   "execution_count": 9,
   "metadata": {},
   "outputs": [],
   "source": [
    "def param_m(x,y):\n",
    "    \"\"\"x, y : are list\"\"\"\n",
    "    n = len(x)\n",
    "    nume = n*sum(x*y) - sum(x)*sum(y)\n",
    "    deno = n*sum(x**2) - (sum(x))**2\n",
    "    return nume/deno\n",
    "\n",
    "def param_b(x,y):\n",
    "    \"\"\"x, y : are list\"\"\"\n",
    "    n = len(x)\n",
    "    nume = (sum(x**2)*sum(y)) - (sum(x)*sum(x*y))\n",
    "    deno = n*sum(x**2) - (sum(x))**2\n",
    "    return nume/deno"
   ]
  },
  {
   "cell_type": "markdown",
   "metadata": {},
   "source": [
    "##### Parámetros (ACELERACIÓN-TIEMPO)"
   ]
  },
  {
   "cell_type": "code",
   "execution_count": 10,
   "metadata": {},
   "outputs": [
    {
     "name": "stdout",
     "output_type": "stream",
     "text": [
      "m_a1 = 1.1813801544895646\n",
      "b_a1 = -2.5427055281052255\n"
     ]
    }
   ],
   "source": [
    "m_a1 = param_m(t[0:300], a[0:300])   # Eliminamos el último valor porque contiene un nan\n",
    "b_a1 = param_b(t[0:300], a[0:300])\n",
    "print(\"m_a1 =\", m_a1)\n",
    "print(\"b_a1 =\", b_a1)"
   ]
  },
  {
   "cell_type": "code",
   "execution_count": 11,
   "metadata": {},
   "outputs": [
    {
     "name": "stdout",
     "output_type": "stream",
     "text": [
      "m = 1.185331258685182\n"
     ]
    }
   ],
   "source": [
    "# Pendiente usando varianza y covarianza con numpy\n",
    "num = np.cov(t[0:300], a[0:300])[0][1]\n",
    "den = np.var(t[0:300])\n",
    "m = num/den\n",
    "print(\"m =\",m)"
   ]
  },
  {
   "cell_type": "code",
   "execution_count": 12,
   "metadata": {},
   "outputs": [
    {
     "data": {
      "text/plain": [
       "Intercept   -2.542706\n",
       "Tiempo       1.181380\n",
       "dtype: float64"
      ]
     },
     "execution_count": 12,
     "metadata": {},
     "output_type": "execute_result"
    }
   ],
   "source": [
    "#Con statsmodel\n",
    "lm = smf.ols(formula=\"Aceleración~Tiempo\", data=df).fit()\n",
    "lm.params"
   ]
  },
  {
   "cell_type": "markdown",
   "metadata": {},
   "source": [
    "##### Parámetros (ACELERACIÓN-POSICIÓN)"
   ]
  },
  {
   "cell_type": "code",
   "execution_count": 13,
   "metadata": {},
   "outputs": [
    {
     "name": "stdout",
     "output_type": "stream",
     "text": [
      "m_a2= -0.5142597969374938\n",
      "b_a2= 3.8642193335231463\n"
     ]
    }
   ],
   "source": [
    "m_a2 = param_m(x[0:300], a[0:300])\n",
    "b_a2 = param_b(x[0:300], a[0:300])\n",
    "print(\"m_a2=\", m_a2)\n",
    "print(\"b_a2=\", b_a2)"
   ]
  },
  {
   "cell_type": "code",
   "execution_count": 14,
   "metadata": {},
   "outputs": [
    {
     "data": {
      "text/plain": [
       "Intercept    3.864219\n",
       "Posición    -0.514260\n",
       "dtype: float64"
      ]
     },
     "execution_count": 14,
     "metadata": {},
     "output_type": "execute_result"
    }
   ],
   "source": [
    "#Con statsmodel\n",
    "lm_2 = smf.ols(formula=\"Aceleración~Posición\", data=df).fit()\n",
    "lm_2.params"
   ]
  },
  {
   "cell_type": "markdown",
   "metadata": {},
   "source": [
    "### Modelos: \n",
    "\n",
    "#### Aceleración vs Tiempo:  \n",
    "\n",
    "$~~~~$Fórmula directa: $~~ a = -2.542706 + 1.181380~t ~~~~ ~~~~ ~~~~ ~~~~ $ Statsmodel: $~~ a = -2.542706 + 1.181380~t $\n",
    "\n",
    "\n",
    "#### Aceleración vs Posición:\n",
    "\n",
    "$~~~~$Fórmula directa: $~~ a =  3.864219 - 0.514260~x ~~~~ ~~~~ ~~~~ ~~~~ ~~$ Statsmodel: $~~ a =  3.864219 - 0.514260~x $\n",
    "\n",
    "$ $"
   ]
  },
  {
   "cell_type": "code",
   "execution_count": 15,
   "metadata": {},
   "outputs": [
    {
     "data": {
      "image/png": "[encoded data removed]",
      "text/plain": [
       "<Figure size 1080x360 with 2 Axes>"
      ]
     },
     "metadata": {
      "needs_background": "light"
     },
     "output_type": "display_data"
    }
   ],
   "source": [
    "#GRÁFICAS\n",
    "\n",
    "#Statsmodel \n",
    "a_mod_s1 = lm.params[0] + lm.params[1]*t       # (Acel-Tpo)\n",
    "a_mod_s2 = lm_2.params[0] + lm_2.params[1]*x   # (Acel-Pos)\n",
    "\n",
    "#Fórmula directa \n",
    "a_mod_f1 = b_a1 + m_a1*t     # (Acel-Tpo)\n",
    "a_mod_f2 = b_a2 + m_a2*x     # (Acel-Pos)\n",
    "\n",
    "\n",
    "plt.figure(figsize=(15,5))\n",
    "\n",
    "plt.subplot(1,2,1)\n",
    "plt.scatter(t,a)\n",
    "plt.plot(t, a_mod_s1, color=\"red\", linewidth=2)     # Statsmodel\n",
    "plt.plot(t, a_mod_f1, color=\"black\", linewidth=2, alpha=0.6)   # Fórmula\n",
    "\n",
    "plt.title('Aceleración vs Tiempo', size=15)\n",
    "plt.xlabel('Tiempo  t')\n",
    "plt.ylabel('Aceleración  a')\n",
    "\n",
    "\n",
    "\n",
    "plt.subplot(1,2,2)\n",
    "plt.scatter(x,a)\n",
    "plt.plot(x,a_mod_s2, color=\"red\", linewidth=2)    # Statsmodel\n",
    "plt.plot(x,a_mod_f2, color=\"black\", linewidth=2, alpha=0.6)  # Fórmula\n",
    "\n",
    "plt.title('Aceleración vs Posición', size=15)\n",
    "plt.xlabel('Posición   x')\n",
    "plt.ylabel('Aceleración  a')\n",
    "\n",
    "plt.show()"
   ]
  },
  {
   "cell_type": "markdown",
   "metadata": {},
   "source": [
    "Con la aproximación del modelo tenemos que \n",
    "\n",
    "$$ a = - 0.517752~x + 3.884838  \\approx -\\frac{k}{m} (x - x_0) = -\\frac{k}{m} ~x ~+~ \\frac{k~x_0}{m} $$\n",
    "\n",
    "De modo que $$ \\frac{k}{m} \\approx 0.517752 \\implies k \\approx m (0.517752) = 12 (0.517752) = 6.213024 $$\n",
    "\n",
    "y  $$ \\frac{k~x_0}{m} \\approx 3.884838 \\implies x_0 \\approx \\frac{m}{k}(3.884838) = \\left(\\frac{12}{6.213024}\\right)(3.884838) = 7.503280 $$"
   ]
  },
  {
   "cell_type": "markdown",
   "metadata": {},
   "source": [
    "#### $k\\approx~$6.213024\n",
    "#### $x_0\\approx~$7.503280"
   ]
  },
  {
   "cell_type": "markdown",
   "metadata": {},
   "source": [
    "____"
   ]
  },
  {
   "cell_type": "markdown",
   "metadata": {},
   "source": [
    "## Regresión multivariada"
   ]
  },
  {
   "cell_type": "markdown",
   "metadata": {},
   "source": [
    "Ahora un poco más complicado pero no imposible. El archivo de datos 'casas.csv' contiene información sobre las características de 400 casas apócrifas, incluyendo el precio en el que han sido vendidas."
   ]
  },
  {
   "cell_type": "code",
   "execution_count": 16,
   "metadata": {},
   "outputs": [
    {
     "data": {
      "text/html": [
       "<div>\n",
       "<style scoped>\n",
       "    .dataframe tbody tr th:only-of-type {\n",
       "        vertical-align: middle;\n",
       "    }\n",
       "\n",
       "    .dataframe tbody tr th {\n",
       "        vertical-align: top;\n",
       "    }\n",
       "\n",
       "    .dataframe thead th {\n",
       "        text-align: right;\n",
       "    }\n",
       "</style>\n",
       "<table border=\"1\" class=\"dataframe\">\n",
       "  <thead>\n",
       "    <tr style=\"text-align: right;\">\n",
       "      <th></th>\n",
       "      <th>Precio</th>\n",
       "      <th>Zona</th>\n",
       "      <th>No_Baños</th>\n",
       "      <th>No_Cuartos</th>\n",
       "      <th>Superficie</th>\n",
       "    </tr>\n",
       "  </thead>\n",
       "  <tbody>\n",
       "    <tr>\n",
       "      <th>0</th>\n",
       "      <td>4628135.0</td>\n",
       "      <td>3.0</td>\n",
       "      <td>1.0</td>\n",
       "      <td>1.0</td>\n",
       "      <td>120.0</td>\n",
       "    </tr>\n",
       "    <tr>\n",
       "      <th>1</th>\n",
       "      <td>2057167.0</td>\n",
       "      <td>1.0</td>\n",
       "      <td>2.0</td>\n",
       "      <td>3.0</td>\n",
       "      <td>581.0</td>\n",
       "    </tr>\n",
       "    <tr>\n",
       "      <th>2</th>\n",
       "      <td>396796.0</td>\n",
       "      <td>0.0</td>\n",
       "      <td>1.0</td>\n",
       "      <td>1.0</td>\n",
       "      <td>99.0</td>\n",
       "    </tr>\n",
       "    <tr>\n",
       "      <th>3</th>\n",
       "      <td>2729222.0</td>\n",
       "      <td>2.0</td>\n",
       "      <td>1.0</td>\n",
       "      <td>4.0</td>\n",
       "      <td>232.0</td>\n",
       "    </tr>\n",
       "    <tr>\n",
       "      <th>4</th>\n",
       "      <td>868960.0</td>\n",
       "      <td>0.0</td>\n",
       "      <td>1.0</td>\n",
       "      <td>2.0</td>\n",
       "      <td>283.0</td>\n",
       "    </tr>\n",
       "  </tbody>\n",
       "</table>\n",
       "</div>"
      ],
      "text/plain": [
       "      Precio  Zona  No_Baños  No_Cuartos  Superficie\n",
       "0  4628135.0   3.0       1.0         1.0       120.0\n",
       "1  2057167.0   1.0       2.0         3.0       581.0\n",
       "2   396796.0   0.0       1.0         1.0        99.0\n",
       "3  2729222.0   2.0       1.0         4.0       232.0\n",
       "4   868960.0   0.0       1.0         2.0       283.0"
      ]
     },
     "execution_count": 16,
     "metadata": {},
     "output_type": "execute_result"
    }
   ],
   "source": [
    "casas = pd.read_csv('casas.csv')\n",
    "df2 = pd.DataFrame(casas)\n",
    "df2.head()"
   ]
  },
  {
   "cell_type": "markdown",
   "metadata": {},
   "source": [
    "Los campos son los siguientes:\n",
    "1. **Precio**: Precio en que la casa fue vendida. Algunas casas son _demasiado caras_ y pueden meter ruido a la predicción.\n",
    "2. **Zona**: Categoría del vecindario en el que la casa se encuentra. Las categorías van del 0 (la zona más fea) al 4 (Al lado del parque _La Mexicana_) Se sabe que los números no representan linealmente el ascenso en precio de las casas.\n",
    "3. **No_Baños**: Número de baños en la casa\n",
    "4. **No_Cuartos**: Número de cuartos en la casa\n",
    "5. **Superficie**: Superficie de la casa\n",
    "\n",
    "Busque un modelo lineal que pueda predecir el costo de una casa en la zona 3, de 2 baños y 4 recámaras con $300m^2$ de superficie.\n",
    "\n",
    "Además de eso, de una interpretación de cada entrada del vector de parámetros del modelo."
   ]
  },
  {
   "cell_type": "markdown",
   "metadata": {},
   "source": [
    "Como parte final, para que comiencen a sentir el **poder**, aquí está una función que tomará $c$ el vector parámetro de su modelo, y lo evaluará en una partición de datos conocidos, a ver qué tan bien pueden predecir. La lambda que toma como segundo argumento es una función que se aplica a la columna \"Zona\". Relative es para dividir entre el precio medio aproximado de las casas (Sólo es para hacer el número un tanto más pequeño). Y así es como comienza la competencia.\n",
    "\n",
    "*    QLFScore(c, zoneFunction = lambda j: j, relative = True)"
   ]
  },
  {
   "cell_type": "code",
   "execution_count": 17,
   "metadata": {},
   "outputs": [],
   "source": [
    "#Solución aquí:"
   ]
  },
  {
   "cell_type": "markdown",
   "metadata": {},
   "source": [
    "### Ecuaciones normales de la regresión"
   ]
  },
  {
   "cell_type": "code",
   "execution_count": 18,
   "metadata": {},
   "outputs": [],
   "source": [
    "#Definiendo la funciónn que dará los parámetros\n",
    "def params_c(matriz_data, variables, prediccion):\n",
    "    \n",
    "    matriz = matriz_data[variables]\n",
    "    matriz.insert(0, 'Ones', np.ones(len(prediccion)))  # Agrega una columna de unos\n",
    "    \n",
    "    x = np.array(matriz)    # Genera la matriz X\n",
    "    \n",
    "    inversa = np.linalg.inv(np.dot(x.T, x))\n",
    "    c = inversa.dot(np.dot(x.T, prediccion))\n",
    "    #print(c)\n",
    "    \n",
    "    return c  # Regresa la lista de lista de parámetros empezando por los bias"
   ]
  },
  {
   "cell_type": "markdown",
   "metadata": {},
   "source": [
    "##### Probando la función obteniendo los parámetros del ejercicio anterior :"
   ]
  },
  {
   "cell_type": "code",
   "execution_count": 19,
   "metadata": {},
   "outputs": [
    {
     "data": {
      "text/plain": [
       "array([ 3.86421933, -0.5142598 ])"
      ]
     },
     "execution_count": 19,
     "metadata": {},
     "output_type": "execute_result"
    }
   ],
   "source": [
    "df4 = df[0:300]\n",
    "var = ['Posición']\n",
    "predi = df4.Aceleración\n",
    "c = params_c(df4, var, predi)\n",
    "c"
   ]
  },
  {
   "cell_type": "markdown",
   "metadata": {},
   "source": [
    "#### Calculamos ahora los parámetros para las casas con datos actuales :"
   ]
  },
  {
   "cell_type": "code",
   "execution_count": 20,
   "metadata": {},
   "outputs": [
    {
     "data": {
      "text/plain": [
       "array([-1615758.30606518,  2196948.07194177,   328809.8291328 ,\n",
       "         108897.4519795 ,     3410.75109916])"
      ]
     },
     "execution_count": 20,
     "metadata": {},
     "output_type": "execute_result"
    }
   ],
   "source": [
    "variables = ['Zona', 'No_Baños', 'No_Cuartos', 'Superficie']\n",
    "prediccion = df2.Precio\n",
    "\n",
    "c = params_c(df2, variables, prediccion)\n",
    "c"
   ]
  },
  {
   "cell_type": "markdown",
   "metadata": {},
   "source": [
    "Cada entrada del vector anterior representa el peso que tiene cada variable en la predicción del precio.\n",
    "\n",
    "$ precio =  2196948.07(Zona) + 328809.83(No\\_Baños) + 108897.45(No\\_Cuartos) + 3410.75(Superficie) - 1615758.31$\n",
    "\n",
    "Veamos en precio de una vivienda en particular:"
   ]
  },
  {
   "cell_type": "code",
   "execution_count": 21,
   "metadata": {},
   "outputs": [],
   "source": [
    "def precio_modelo_1(zona, banios, cuartos, superficie):\n",
    "    precio = 2196948.07*zona + 328809.83*banios + 108897.45*cuartos + 3410.75*superficie - 1615758.31\n",
    "    print(\"Caraterísticas de la casa: \\n\\n\")\n",
    "    print(\"Zona      = \", zona)\n",
    "    print(\"Baños     = \", banios)\n",
    "    print(\"Cuartos   = \", cuartos)\n",
    "    print(\"Supeficie = \", superficie)\n",
    "    print(\"Precio    =  $\", int(precio))\n",
    "    \n",
    "    return precio"
   ]
  },
  {
   "cell_type": "markdown",
   "metadata": {},
   "source": [
    "##### Características de la casa : zona 3, 1 baño, 1 recámara, 120$m^2$"
   ]
  },
  {
   "cell_type": "code",
   "execution_count": 22,
   "metadata": {},
   "outputs": [
    {
     "name": "stdout",
     "output_type": "stream",
     "text": [
      "Caraterísticas de la casa: \n",
      "\n",
      "\n",
      "Zona      =  3\n",
      "Baños     =  1\n",
      "Cuartos   =  1\n",
      "Supeficie =  120\n",
      "Precio    =  $ 5822083\n"
     ]
    }
   ],
   "source": [
    "precio1 = precio_modelo_1(3,1,1,120)"
   ]
  },
  {
   "cell_type": "markdown",
   "metadata": {},
   "source": [
    "El precio de la casa, según los datos es de $4,628,135. Vemos que tenemos un error grande; de hecho lo podemos comprobar con la función QLFScore"
   ]
  },
  {
   "cell_type": "code",
   "execution_count": 23,
   "metadata": {},
   "outputs": [
    {
     "data": {
      "text/plain": [
       "399316.8821088355"
      ]
     },
     "execution_count": 23,
     "metadata": {},
     "output_type": "execute_result"
    }
   ],
   "source": [
    "QLFScore(c, zoneFunction = lambda j: j, relative = True)"
   ]
  },
  {
   "cell_type": "markdown",
   "metadata": {},
   "source": [
    "El error es muy grande. Continuamos con el anáisis."
   ]
  },
  {
   "cell_type": "markdown",
   "metadata": {},
   "source": [
    "### Gráficas"
   ]
  },
  {
   "cell_type": "code",
   "execution_count": 24,
   "metadata": {},
   "outputs": [
    {
     "data": {
      "image/png": "[encoded data removed]",
      "text/plain": [
       "<Figure size 1296x1080 with 4 Axes>"
      ]
     },
     "metadata": {
      "needs_background": "light"
     },
     "output_type": "display_data"
    }
   ],
   "source": [
    "#Gráficos de dispersión\n",
    "plt.figure(figsize=(18,15))\n",
    "\n",
    "plt.subplot(2,2,1)\n",
    "plt.scatter(df2.Zona, df2.Precio)\n",
    "plt.title('Precio vs Zona', size=15)\n",
    "plt.xlabel('Zona')\n",
    "plt.ylabel('Precio')\n",
    "\n",
    "\n",
    "plt.subplot(2,2,2)\n",
    "plt.scatter(df2.No_Baños, df2.Precio)\n",
    "plt.title('Precio vs Baños', size=15)\n",
    "plt.xlabel('Baños', size=15)\n",
    "plt.ylabel('Precio', size=15)\n",
    "\n",
    "plt.subplot(2,2,3)\n",
    "plt.scatter(df2.No_Cuartos, df2.Precio)\n",
    "plt.title('Precio vs Cuartos', size=15)\n",
    "plt.xlabel('Cuartos', size=15)\n",
    "plt.ylabel('Precio', size=15)\n",
    "\n",
    "plt.subplot(2,2,4)\n",
    "plt.scatter(df2.Superficie, df2.Precio)\n",
    "plt.title('Precio vs Superficie', size=15)\n",
    "plt.xlabel(r'Superficie  ($m^2$)')\n",
    "plt.ylabel('Precio')\n",
    "\n",
    "\n",
    "plt.show()"
   ]
  },
  {
   "cell_type": "markdown",
   "metadata": {},
   "source": [
    "Outliers:\n",
    "\n",
    "De las gráficas podemos observar algunos valores que parecen atípicos. Veamos cuáles son."
   ]
  },
  {
   "cell_type": "code",
   "execution_count": 25,
   "metadata": {},
   "outputs": [
    {
     "data": {
      "image/png": "[encoded data removed]",
      "text/plain": [
       "<Figure size 1296x288 with 5 Axes>"
      ]
     },
     "metadata": {
      "needs_background": "light"
     },
     "output_type": "display_data"
    }
   ],
   "source": [
    "#Gráficos de caja\n",
    "\n",
    "plt.figure(figsize=(18,4))\n",
    "plt.subplot(1,5,1)\n",
    "plt.boxplot(df2.Precio)\n",
    "plt.title('Precio', size=15)\n",
    "\n",
    "plt.subplot(1,5,2)\n",
    "plt.boxplot(df2.Zona)\n",
    "plt.title('Zona', size=15)\n",
    "\n",
    "plt.subplot(1,5,3)\n",
    "plt.boxplot(df2.No_Baños)\n",
    "plt.title('Número de baños', size=15)\n",
    "\n",
    "plt.subplot(1,5,4)\n",
    "plt.boxplot(df2.No_Cuartos)\n",
    "plt.title('Número de cuartos', size=15)\n",
    "\n",
    "plt.subplot(1,5,5)\n",
    "plt.boxplot(df2.Superficie)\n",
    "plt.title('Superficie', size=15)\n",
    "\n",
    "plt.show()"
   ]
  },
  {
   "cell_type": "markdown",
   "metadata": {},
   "source": [
    "Quitando los 10 outliers:"
   ]
  },
  {
   "cell_type": "code",
   "execution_count": 26,
   "metadata": {},
   "outputs": [
    {
     "data": {
      "text/html": [
       "<div>\n",
       "<style scoped>\n",
       "    .dataframe tbody tr th:only-of-type {\n",
       "        vertical-align: middle;\n",
       "    }\n",
       "\n",
       "    .dataframe tbody tr th {\n",
       "        vertical-align: top;\n",
       "    }\n",
       "\n",
       "    .dataframe thead th {\n",
       "        text-align: right;\n",
       "    }\n",
       "</style>\n",
       "<table border=\"1\" class=\"dataframe\">\n",
       "  <thead>\n",
       "    <tr style=\"text-align: right;\">\n",
       "      <th></th>\n",
       "      <th>Precio</th>\n",
       "      <th>Zona</th>\n",
       "      <th>No_Baños</th>\n",
       "      <th>No_Cuartos</th>\n",
       "      <th>Superficie</th>\n",
       "    </tr>\n",
       "  </thead>\n",
       "  <tbody>\n",
       "    <tr>\n",
       "      <th>369</th>\n",
       "      <td>122856258.0</td>\n",
       "      <td>4.0</td>\n",
       "      <td>3.0</td>\n",
       "      <td>5.0</td>\n",
       "      <td>397.0</td>\n",
       "    </tr>\n",
       "    <tr>\n",
       "      <th>294</th>\n",
       "      <td>76626130.0</td>\n",
       "      <td>3.0</td>\n",
       "      <td>3.0</td>\n",
       "      <td>4.0</td>\n",
       "      <td>417.0</td>\n",
       "    </tr>\n",
       "    <tr>\n",
       "      <th>114</th>\n",
       "      <td>71644020.0</td>\n",
       "      <td>3.0</td>\n",
       "      <td>1.0</td>\n",
       "      <td>2.0</td>\n",
       "      <td>314.0</td>\n",
       "    </tr>\n",
       "    <tr>\n",
       "      <th>345</th>\n",
       "      <td>48242222.0</td>\n",
       "      <td>2.0</td>\n",
       "      <td>2.0</td>\n",
       "      <td>4.0</td>\n",
       "      <td>557.0</td>\n",
       "    </tr>\n",
       "    <tr>\n",
       "      <th>340</th>\n",
       "      <td>41122508.0</td>\n",
       "      <td>2.0</td>\n",
       "      <td>1.0</td>\n",
       "      <td>5.0</td>\n",
       "      <td>315.0</td>\n",
       "    </tr>\n",
       "    <tr>\n",
       "      <th>243</th>\n",
       "      <td>35259826.0</td>\n",
       "      <td>2.0</td>\n",
       "      <td>1.0</td>\n",
       "      <td>1.0</td>\n",
       "      <td>214.0</td>\n",
       "    </tr>\n",
       "    <tr>\n",
       "      <th>149</th>\n",
       "      <td>22662542.0</td>\n",
       "      <td>0.0</td>\n",
       "      <td>3.0</td>\n",
       "      <td>5.0</td>\n",
       "      <td>559.0</td>\n",
       "    </tr>\n",
       "    <tr>\n",
       "      <th>250</th>\n",
       "      <td>16208500.0</td>\n",
       "      <td>0.0</td>\n",
       "      <td>2.0</td>\n",
       "      <td>4.0</td>\n",
       "      <td>374.0</td>\n",
       "    </tr>\n",
       "    <tr>\n",
       "      <th>23</th>\n",
       "      <td>14240702.0</td>\n",
       "      <td>1.0</td>\n",
       "      <td>2.0</td>\n",
       "      <td>4.0</td>\n",
       "      <td>97.0</td>\n",
       "    </tr>\n",
       "    <tr>\n",
       "      <th>158</th>\n",
       "      <td>13935726.0</td>\n",
       "      <td>0.0</td>\n",
       "      <td>2.0</td>\n",
       "      <td>2.0</td>\n",
       "      <td>347.0</td>\n",
       "    </tr>\n",
       "  </tbody>\n",
       "</table>\n",
       "</div>"
      ],
      "text/plain": [
       "          Precio  Zona  No_Baños  No_Cuartos  Superficie\n",
       "369  122856258.0   4.0       3.0         5.0       397.0\n",
       "294   76626130.0   3.0       3.0         4.0       417.0\n",
       "114   71644020.0   3.0       1.0         2.0       314.0\n",
       "345   48242222.0   2.0       2.0         4.0       557.0\n",
       "340   41122508.0   2.0       1.0         5.0       315.0\n",
       "243   35259826.0   2.0       1.0         1.0       214.0\n",
       "149   22662542.0   0.0       3.0         5.0       559.0\n",
       "250   16208500.0   0.0       2.0         4.0       374.0\n",
       "23    14240702.0   1.0       2.0         4.0        97.0\n",
       "158   13935726.0   0.0       2.0         2.0       347.0"
      ]
     },
     "execution_count": 26,
     "metadata": {},
     "output_type": "execute_result"
    }
   ],
   "source": [
    "max_precios = df2.sort_values('Precio', ascending=False)\n",
    "max_precios.head(10)"
   ]
  },
  {
   "cell_type": "markdown",
   "metadata": {},
   "source": [
    "##### Aquí hago una copia de los datos sin los valores atípicos:"
   ]
  },
  {
   "cell_type": "code",
   "execution_count": 27,
   "metadata": {},
   "outputs": [],
   "source": [
    "df3 = df2[df2.Precio < 13935726]  # Data frame sin outliers"
   ]
  },
  {
   "cell_type": "code",
   "execution_count": 28,
   "metadata": {},
   "outputs": [
    {
     "data": {
      "image/png": "[encoded data removed]",
      "text/plain": [
       "<Figure size 1296x288 with 5 Axes>"
      ]
     },
     "metadata": {
      "needs_background": "light"
     },
     "output_type": "display_data"
    }
   ],
   "source": [
    "plt.figure(figsize=(18,4))\n",
    "plt.subplot(1,5,1)\n",
    "plt.boxplot(df3.Precio)\n",
    "plt.title('Precio sin oultiers', size=15)\n",
    "\n",
    "plt.subplot(1,5,2)\n",
    "plt.boxplot(df2.Zona)\n",
    "plt.title('Zona', size=15)\n",
    "\n",
    "plt.subplot(1,5,3)\n",
    "plt.boxplot(df2.No_Baños)\n",
    "plt.title('Número de baños', size=15)\n",
    "\n",
    "plt.subplot(1,5,4)\n",
    "plt.boxplot(df2.No_Cuartos)\n",
    "plt.title('Número de cuartos', size=15)\n",
    "\n",
    "plt.subplot(1,5,5)\n",
    "plt.boxplot(df2.Superficie)\n",
    "plt.title('Superficie', size=15)\n",
    "\n",
    "plt.show()"
   ]
  },
  {
   "cell_type": "markdown",
   "metadata": {},
   "source": [
    "#### Grafico el precio respecto de cada variable"
   ]
  },
  {
   "cell_type": "code",
   "execution_count": 29,
   "metadata": {},
   "outputs": [
    {
     "data": {
      "image/png": "[encoded data removed]",
      "text/plain": [
       "<Figure size 1296x1080 with 4 Axes>"
      ]
     },
     "metadata": {
      "needs_background": "light"
     },
     "output_type": "display_data"
    }
   ],
   "source": [
    "#Gráficos de dispersión actializadas\n",
    "\n",
    "plt.figure(figsize=(18,15))\n",
    "\n",
    "plt.subplot(2,2,1)\n",
    "plt.scatter(df3.Zona, df3.Precio)\n",
    "plt.title('Precio vs Zona', size=15)\n",
    "plt.xlabel('Zona')\n",
    "plt.ylabel('Precio')\n",
    "\n",
    "\n",
    "plt.subplot(2,2,2)\n",
    "plt.scatter(df3.No_Baños, df3.Precio)\n",
    "plt.title('Precio vs Baños', size=15)\n",
    "plt.xlabel('Baños', size=15)\n",
    "plt.ylabel('Precio', size=15)\n",
    "\n",
    "plt.subplot(2,2,3)\n",
    "plt.scatter(df3.No_Cuartos, df3.Precio)\n",
    "plt.title('Precio vs Cuartos', size=15)\n",
    "plt.xlabel('Cuartos', size=15)\n",
    "plt.ylabel('Precio', size=15)\n",
    "\n",
    "plt.subplot(2,2,4)\n",
    "plt.scatter(df3.Superficie, df3.Precio)\n",
    "plt.title('Precio vs Superficie', size=15)\n",
    "plt.xlabel(r'Superficie  ($m^2$)')\n",
    "plt.ylabel('Precio')\n",
    "\n",
    "\n",
    "plt.show()"
   ]
  },
  {
   "cell_type": "markdown",
   "metadata": {},
   "source": [
    "Según la descripción en **Zona**, como se sabe que los números no representan linealmente el ascenso en precio de las casas, vamos a hacer una aproximación no lineal de este gráfico (tiene pinta de una exponencial o de una parábola)."
   ]
  },
  {
   "cell_type": "markdown",
   "metadata": {},
   "source": [
    "###### Comprobación de una aproximación lineal:"
   ]
  },
  {
   "cell_type": "code",
   "execution_count": 30,
   "metadata": {},
   "outputs": [
    {
     "data": {
      "text/plain": [
       "array([ 144658.7722258 , 1841399.81180555])"
      ]
     },
     "execution_count": 30,
     "metadata": {},
     "output_type": "execute_result"
    }
   ],
   "source": [
    "df_model1 = df3[['Precio', 'Zona']]\n",
    "variable = ['Zona']\n",
    "predic = df_model1.Precio\n",
    "c = params_c(df_model1, variable, predic)\n",
    "c"
   ]
  },
  {
   "cell_type": "code",
   "execution_count": 31,
   "metadata": {},
   "outputs": [
    {
     "data": {
      "image/png": "[encoded data removed]",
      "text/plain": [
       "<Figure size 432x288 with 1 Axes>"
      ]
     },
     "metadata": {
      "needs_background": "light"
     },
     "output_type": "display_data"
    }
   ],
   "source": [
    "plt.scatter(df3.Zona, df3.Precio)\n",
    "plt.plot(df3.Zona, 144658.7722258 + 1841399.81180555*df3.Zona)\n",
    "plt.title('Precio vs Zona', size=15)\n",
    "plt.xlabel('Zona')\n",
    "plt.ylabel('Precio')\n",
    "plt.show()"
   ]
  },
  {
   "cell_type": "code",
   "execution_count": 32,
   "metadata": {},
   "outputs": [
    {
     "data": {
      "text/plain": [
       "77260.66475775704"
      ]
     },
     "execution_count": 32,
     "metadata": {},
     "output_type": "execute_result"
    }
   ],
   "source": [
    "c_zona = [144658.7722258, 1841399.81180555, 0, 0, 0]\n",
    "QLFScore(c_zona, zoneFunction = lambda j: j, relative = True)"
   ]
  },
  {
   "cell_type": "markdown",
   "metadata": {},
   "source": [
    "Vemos que no se ajusta muy bien y que el error es grande sólo usando esa variable."
   ]
  },
  {
   "cell_type": "markdown",
   "metadata": {},
   "source": [
    "#### Correlación entre variables"
   ]
  },
  {
   "cell_type": "markdown",
   "metadata": {},
   "source": [
    "(\"Necesitamos que ninguna de las variables que medimos sea la combinación lineal de otras. Aquí viene la importancia de la correlación! Y aunque la correlación entre columnas no sea 1, columnas con alta correlación volverán computacionalmente inestable a la inversión de la matriz de Gram.\")\n",
    "\n",
    "Una primera aproximación del precio está dado por la zona: $ 144658.7722258 + 1841399.81180555\\cdot Zona $\n",
    "\n",
    "Parece razonable pensar que el precio también depende de la superficie del terreno. A mayo superficie, mayor precio. Agregaremos esta variable y analizaremos la correlación con la zona.\n",
    "\n",
    "Matriz de covarianza entre zona y superficie:"
   ]
  },
  {
   "cell_type": "markdown",
   "metadata": {},
   "source": [
    "$$ \\hat{\\sigma}_{~z~s} = \\frac{1}{n-1} \\sum_{i=1}^n (z_i-\\bar{z}~)(s_i-\\bar{s}~) $$"
   ]
  },
  {
   "cell_type": "code",
   "execution_count": 33,
   "metadata": {},
   "outputs": [
    {
     "data": {
      "text/html": [
       "<div>\n",
       "<style scoped>\n",
       "    .dataframe tbody tr th:only-of-type {\n",
       "        vertical-align: middle;\n",
       "    }\n",
       "\n",
       "    .dataframe tbody tr th {\n",
       "        vertical-align: top;\n",
       "    }\n",
       "\n",
       "    .dataframe thead th {\n",
       "        text-align: right;\n",
       "    }\n",
       "</style>\n",
       "<table border=\"1\" class=\"dataframe\">\n",
       "  <thead>\n",
       "    <tr style=\"text-align: right;\">\n",
       "      <th></th>\n",
       "      <th>Zona</th>\n",
       "      <th>No_Baños</th>\n",
       "      <th>No_Cuartos</th>\n",
       "      <th>Superficie</th>\n",
       "    </tr>\n",
       "  </thead>\n",
       "  <tbody>\n",
       "    <tr>\n",
       "      <th>Zona</th>\n",
       "      <td>1.000000</td>\n",
       "      <td>-0.046701</td>\n",
       "      <td>-0.014919</td>\n",
       "      <td>-0.081645</td>\n",
       "    </tr>\n",
       "    <tr>\n",
       "      <th>No_Baños</th>\n",
       "      <td>-0.046701</td>\n",
       "      <td>1.000000</td>\n",
       "      <td>0.494858</td>\n",
       "      <td>0.670292</td>\n",
       "    </tr>\n",
       "    <tr>\n",
       "      <th>No_Cuartos</th>\n",
       "      <td>-0.014919</td>\n",
       "      <td>0.494858</td>\n",
       "      <td>1.000000</td>\n",
       "      <td>0.564685</td>\n",
       "    </tr>\n",
       "    <tr>\n",
       "      <th>Superficie</th>\n",
       "      <td>-0.081645</td>\n",
       "      <td>0.670292</td>\n",
       "      <td>0.564685</td>\n",
       "      <td>1.000000</td>\n",
       "    </tr>\n",
       "  </tbody>\n",
       "</table>\n",
       "</div>"
      ],
      "text/plain": [
       "                Zona  No_Baños  No_Cuartos  Superficie\n",
       "Zona        1.000000 -0.046701   -0.014919   -0.081645\n",
       "No_Baños   -0.046701  1.000000    0.494858    0.670292\n",
       "No_Cuartos -0.014919  0.494858    1.000000    0.564685\n",
       "Superficie -0.081645  0.670292    0.564685    1.000000"
      ]
     },
     "execution_count": 33,
     "metadata": {},
     "output_type": "execute_result"
    }
   ],
   "source": [
    "df3[['Zona', 'No_Baños', 'No_Cuartos', 'Superficie']].corr()"
   ]
  },
  {
   "cell_type": "markdown",
   "metadata": {},
   "source": [
    "Podemos ver que las variables con alta correlación son: No_Baños-Superficie, No_Baños-No_Cuartos y No_Cuartos-Superficie.\n",
    "\n",
    "La única que no mantiene correlación relevante con ninguna otra varible es la Zona (será nuestra primer variable independiente). En particular parece que Superficie es otra buena elección de variable independiente."
   ]
  },
  {
   "cell_type": "markdown",
   "metadata": {},
   "source": [
    "Iremos añadiendo las variables y sus interacciones para encontrar un mejor modelo (al usar la función QLFScore tendría que mostrar un error cuadrático menor)."
   ]
  },
  {
   "cell_type": "code",
   "execution_count": 34,
   "metadata": {},
   "outputs": [
    {
     "data": {
      "text/plain": [
       "array([-688573.87760446, 1863625.48116667,    2419.16786605])"
      ]
     },
     "execution_count": 34,
     "metadata": {},
     "output_type": "execute_result"
    }
   ],
   "source": [
    "variable = ['Zona', 'Superficie']\n",
    "predic = df3.Precio\n",
    "c = params_c(df3, variable, predic)\n",
    "c"
   ]
  },
  {
   "cell_type": "code",
   "execution_count": 35,
   "metadata": {},
   "outputs": [
    {
     "data": {
      "text/plain": [
       "88691.57575109326"
      ]
     },
     "execution_count": 35,
     "metadata": {},
     "output_type": "execute_result"
    }
   ],
   "source": [
    "c = [-688573.87760446, 1863625.48116667, 0, 0,  2419.16786605]\n",
    "QLFScore(c, zoneFunction = lambda j: j, relative = True)"
   ]
  },
  {
   "cell_type": "markdown",
   "metadata": {},
   "source": [
    "(No es más pequeño; el anterior era de 77260.66)\n",
    "\n",
    "$ $\n",
    "\n",
    "Hasta ahora el mejor modelo es $$ precio = 144658.77 + 1841399.81(Zona) $$"
   ]
  },
  {
   "cell_type": "code",
   "execution_count": 36,
   "metadata": {},
   "outputs": [],
   "source": [
    "def precio_modelo_2(zona, banios, cuartos, superficie):\n",
    "    precio = 144658.77 + 1841399.81*zona\n",
    "    print(\"Precio = $\" + str(precio))    \n",
    "    return precio"
   ]
  },
  {
   "cell_type": "code",
   "execution_count": 37,
   "metadata": {},
   "outputs": [
    {
     "name": "stdout",
     "output_type": "stream",
     "text": [
      "Precio = $5668858.199999999\n"
     ]
    }
   ],
   "source": [
    "precio2 = precio_modelo_2(3,1,1,120)"
   ]
  },
  {
   "cell_type": "markdown",
   "metadata": {},
   "source": [
    "(Aún estamos muy por encim del valor real: $4,628,135)"
   ]
  },
  {
   "cell_type": "markdown",
   "metadata": {},
   "source": [
    "##### Ahora vamos a considerar la aproximación cuadrática en la variable Zona. Transformamos dichos valores y vemos cómo se mejora el modelo:"
   ]
  },
  {
   "cell_type": "code",
   "execution_count": 38,
   "metadata": {},
   "outputs": [
    {
     "data": {
      "text/html": [
       "<div>\n",
       "<style scoped>\n",
       "    .dataframe tbody tr th:only-of-type {\n",
       "        vertical-align: middle;\n",
       "    }\n",
       "\n",
       "    .dataframe tbody tr th {\n",
       "        vertical-align: top;\n",
       "    }\n",
       "\n",
       "    .dataframe thead th {\n",
       "        text-align: right;\n",
       "    }\n",
       "</style>\n",
       "<table border=\"1\" class=\"dataframe\">\n",
       "  <thead>\n",
       "    <tr style=\"text-align: right;\">\n",
       "      <th></th>\n",
       "      <th>Precio</th>\n",
       "      <th>Zona</th>\n",
       "      <th>No_Baños</th>\n",
       "      <th>No_Cuartos</th>\n",
       "      <th>Superficie</th>\n",
       "    </tr>\n",
       "  </thead>\n",
       "  <tbody>\n",
       "    <tr>\n",
       "      <th>0</th>\n",
       "      <td>4628135.0</td>\n",
       "      <td>9.0</td>\n",
       "      <td>1.0</td>\n",
       "      <td>1.0</td>\n",
       "      <td>120.0</td>\n",
       "    </tr>\n",
       "    <tr>\n",
       "      <th>1</th>\n",
       "      <td>2057167.0</td>\n",
       "      <td>1.0</td>\n",
       "      <td>2.0</td>\n",
       "      <td>3.0</td>\n",
       "      <td>581.0</td>\n",
       "    </tr>\n",
       "    <tr>\n",
       "      <th>2</th>\n",
       "      <td>396796.0</td>\n",
       "      <td>0.0</td>\n",
       "      <td>1.0</td>\n",
       "      <td>1.0</td>\n",
       "      <td>99.0</td>\n",
       "    </tr>\n",
       "    <tr>\n",
       "      <th>3</th>\n",
       "      <td>2729222.0</td>\n",
       "      <td>4.0</td>\n",
       "      <td>1.0</td>\n",
       "      <td>4.0</td>\n",
       "      <td>232.0</td>\n",
       "    </tr>\n",
       "    <tr>\n",
       "      <th>4</th>\n",
       "      <td>868960.0</td>\n",
       "      <td>0.0</td>\n",
       "      <td>1.0</td>\n",
       "      <td>2.0</td>\n",
       "      <td>283.0</td>\n",
       "    </tr>\n",
       "  </tbody>\n",
       "</table>\n",
       "</div>"
      ],
      "text/plain": [
       "      Precio  Zona  No_Baños  No_Cuartos  Superficie\n",
       "0  4628135.0   9.0       1.0         1.0       120.0\n",
       "1  2057167.0   1.0       2.0         3.0       581.0\n",
       "2   396796.0   0.0       1.0         1.0        99.0\n",
       "3  2729222.0   4.0       1.0         4.0       232.0\n",
       "4   868960.0   0.0       1.0         2.0       283.0"
      ]
     },
     "execution_count": 38,
     "metadata": {},
     "output_type": "execute_result"
    }
   ],
   "source": [
    "df4 = df3.copy()\n",
    "df4.Zona = df4.Zona**2\n",
    "df4.head()"
   ]
  },
  {
   "cell_type": "markdown",
   "metadata": {},
   "source": [
    "Visualización del comportamiento de Zona cuadrada:"
   ]
  },
  {
   "cell_type": "code",
   "execution_count": 39,
   "metadata": {},
   "outputs": [
    {
     "data": {
      "text/plain": [
       "array([1057633.2674221 ,  461633.13445715])"
      ]
     },
     "execution_count": 39,
     "metadata": {},
     "output_type": "execute_result"
    }
   ],
   "source": [
    "variables = ['Zona']\n",
    "predic = df4.Precio\n",
    "c = params_c(df4, variables, predic)\n",
    "c"
   ]
  },
  {
   "cell_type": "code",
   "execution_count": 40,
   "metadata": {},
   "outputs": [
    {
     "data": {
      "image/png": "[encoded data removed]",
      "text/plain": [
       "<Figure size 864x432 with 1 Axes>"
      ]
     },
     "metadata": {
      "needs_background": "light"
     },
     "output_type": "display_data"
    }
   ],
   "source": [
    "plt.figure(figsize=(12,6))\n",
    "plt.scatter(df4.Zona, df4.Precio)\n",
    "plt.plot(df4.Zona, 1057633.2674221 + 461633.13445715*df4.Zona)\n",
    "plt.title('Precio vs Zona', size=15)\n",
    "plt.xlabel(r'Zona$^2$')\n",
    "plt.ylabel('Precio')\n",
    "plt.show()"
   ]
  },
  {
   "cell_type": "markdown",
   "metadata": {},
   "source": [
    "Calculamos nuevamente el vetor de parámtros con la variable modificada:"
   ]
  },
  {
   "cell_type": "code",
   "execution_count": 41,
   "metadata": {},
   "outputs": [
    {
     "data": {
      "text/plain": [
       "array([100480.43450283, 466848.71176749,  16606.70482821,  50484.36491275,\n",
       "         2208.44688945])"
      ]
     },
     "execution_count": 41,
     "metadata": {},
     "output_type": "execute_result"
    }
   ],
   "source": [
    "variables = ['Zona', 'No_Baños', 'No_Cuartos', 'Superficie']\n",
    "predic = df4.Precio\n",
    "c = params_c(df4, variables, predic)\n",
    "c"
   ]
  },
  {
   "cell_type": "code",
   "execution_count": 42,
   "metadata": {},
   "outputs": [
    {
     "data": {
      "text/plain": [
       "50.138336994331375"
      ]
     },
     "execution_count": 42,
     "metadata": {},
     "output_type": "execute_result"
    }
   ],
   "source": [
    "QLFScore(c, zoneFunction = lambda j: j**2, relative = True)"
   ]
  },
  {
   "cell_type": "markdown",
   "metadata": {},
   "source": [
    "El error dismunuyó muy significativamente. Con este vector podemos crear un mejor modelo."
   ]
  },
  {
   "cell_type": "code",
   "execution_count": 43,
   "metadata": {},
   "outputs": [],
   "source": [
    "def precio_modelo_3(zona, banios, cuartos, superficie):\n",
    "    precio = 100480.43450283 + 466848.71176749*(zona**2) + 16606.70482821*banios + 50484.36491275*cuartos + 2208.44688945*superficie \n",
    "    print(\"Precio = $\" + str(precio))\n",
    "    return precio"
   ]
  },
  {
   "cell_type": "code",
   "execution_count": 44,
   "metadata": {},
   "outputs": [
    {
     "name": "stdout",
     "output_type": "stream",
     "text": [
      "Precio = $4634223.5368852\n"
     ]
    }
   ],
   "source": [
    "precio3 = precio_modelo_3(3,1,1,120)"
   ]
  },
  {
   "cell_type": "markdown",
   "metadata": {},
   "source": [
    "Claramente se ve una mejor estimación del valor real: $ \\$ 4,628,135$  (Con una diferencia de $\\$6,088$)"
   ]
  },
  {
   "cell_type": "markdown",
   "metadata": {},
   "source": [
    "### Ahora vamos a variar un poco el exponente para ver si encontramos uno que de menor error:"
   ]
  },
  {
   "cell_type": "code",
   "execution_count": 45,
   "metadata": {},
   "outputs": [],
   "source": [
    "#Definimos la función que hará las iteraciones de ajuste\n",
    "\n",
    "def minimo_error(df, var_indep, var_dep, incrementos):\n",
    "\n",
    "\n",
    "    parametros = []\n",
    "    errores_cuad = []\n",
    "    potencias = []\n",
    "        \n",
    "    for i in incrementos:\n",
    "        data = df.copy()\n",
    "        data.Zona = data.Zona**(2+i)\n",
    "        \n",
    "        c = params_c(data, var_indep, var_dep)\n",
    "        #print(c)\n",
    "        parametros.append(c)\n",
    "        \n",
    "        error = QLFScore(c, zoneFunction = lambda j: j**(2+i), relative = True)\n",
    "        errores_cuad.append(error)\n",
    "        potencias.append(2+i)\n",
    "        \n",
    "        #print(\"\\nPOTENCIA=\", 2+i)\n",
    "        #print(\"ERROR=\", error, \"\\n\\n\")\n",
    "        \n",
    "    minimo = min(errores_cuad)\n",
    "    indice = errores_cuad.index(minimo)\n",
    "    \n",
    "    print(\"\\n\")\n",
    "    print(\"\\nError cuadrático mínimo : \", minimo)\n",
    "    print(\"\\nVector de parámetros    : \", parametros[indice])\n",
    "    print(\"\\nPotencia asociada       : \", potencias[indice])\n",
    "    \n",
    "    return minimo, parametros[indice], potencias[indice]"
   ]
  },
  {
   "cell_type": "markdown",
   "metadata": {},
   "source": [
    "Ajustamos los argumentos de la función y entrenamos:"
   ]
  },
  {
   "cell_type": "code",
   "execution_count": 46,
   "metadata": {},
   "outputs": [],
   "source": [
    "incrementos = [x*0.0001 for x in range(-50, 50)]  # Irá incrementando 0.0001 unidades por iteración\n",
    "var_indep = ['Zona', 'No_Baños', 'No_Cuartos', 'Superficie']\n",
    "var_dep = df3['Precio']"
   ]
  },
  {
   "cell_type": "code",
   "execution_count": 47,
   "metadata": {},
   "outputs": [
    {
     "name": "stdout",
     "output_type": "stream",
     "text": [
      "\n",
      "\n",
      "\n",
      "Error cuadrático mínimo :  49.69016942111481\n",
      "\n",
      "Vector de parámetros    :  [103147.5610602  464619.04764395  16320.55316249  50491.79495176\n",
      "   2209.0995577 ]\n",
      "\n",
      "Potencia asociada       :  2.0034\n",
      "\n",
      "\n",
      "Tiempo de ejecución: 0.54 segundos \n",
      "\n",
      "\n"
     ]
    }
   ],
   "source": [
    "time1 = time()\n",
    "optimo = minimo_error(df3, var_indep, var_dep, incrementos)\n",
    "time2 = time()\n",
    "\n",
    "tiempo_ejecucion = time2 - time1\n",
    "print(\"\\n\\nTiempo de ejecución: \" + str(round(tiempo_ejecucion, 3)) + \" segundos \\n\\n\")"
   ]
  },
  {
   "cell_type": "markdown",
   "metadata": {},
   "source": [
    "Por lo tanto, el mejor modelo de predicción hasta ahora es:\n",
    "\n",
    "$$ Precio = 103147.56 + 464619.05(Zona) + 16320.55(Baños) + 50491.79(Cuartos) + 2209.10(Superficie) $$"
   ]
  },
  {
   "cell_type": "code",
   "execution_count": 48,
   "metadata": {},
   "outputs": [],
   "source": [
    "def precio_mejor_modelo(zona, banios, cuartos, superficie):\n",
    "    precio = 103147.5610602 + 464619.04764395*(zona**2) + 16320.55316249*banios + 50491.79495176*cuartos + 2209.0995577*superficie \n",
    "    print(\"Caraterísticas de la casa: \")\n",
    "    print(\"\\tZona      = \", zona)\n",
    "    print(\"\\tBaños     = \", banios)\n",
    "    print(\"\\tCuartos   = \", cuartos)\n",
    "    print(\"\\tSupeficie = \", superficie)\n",
    "    print(\"\\tPrecio    =  $\", int(precio))\n",
    "    \n",
    "    return precio"
   ]
  },
  {
   "cell_type": "markdown",
   "metadata": {},
   "source": [
    "### Vamos a estimar el precio de algunas casas, comenzando por la que hemos venido comparando:"
   ]
  },
  {
   "cell_type": "code",
   "execution_count": 49,
   "metadata": {},
   "outputs": [
    {
     "name": "stdout",
     "output_type": "stream",
     "text": [
      "Caraterísticas de la casa: \n",
      "\tZona      =  3\n",
      "\tBaños     =  1\n",
      "\tCuartos   =  1\n",
      "\tSupeficie =  120\n",
      "\tPrecio    =  $ 4616623\n"
     ]
    }
   ],
   "source": [
    "precio_mejor = precio_mejor_modelo(3,1,1,120)"
   ]
  },
  {
   "cell_type": "code",
   "execution_count": 50,
   "metadata": {},
   "outputs": [
    {
     "name": "stdout",
     "output_type": "stream",
     "text": [
      "Diferencia =  17600\n"
     ]
    }
   ],
   "source": [
    "print(\"Diferencia = \", 4634223 - 4616623)"
   ]
  },
  {
   "cell_type": "markdown",
   "metadata": {},
   "source": [
    "La diferencia es mayor que cuando teníamos el modelo 3. Habría que revisar si el modelo 3 se ajusta mejor las características de esta casa, pero no muy bien a la de otras. Es decir, hay que evaluar si este nuevo modelo se ajustó mejor a la mayoría de los datos y no sólo pensar que se desajustó más que antes. \n",
    "\n",
    "Veamos cómo se comporta éste, añadiendo una columna de precios predictorios al data frame:"
   ]
  },
  {
   "cell_type": "code",
   "execution_count": 51,
   "metadata": {},
   "outputs": [],
   "source": [
    "df2['Modelo_Precio'] = (103147.5610602 + 464619.04764395*(df2['Zona']**2) + 16320.55316249*df2['No_Baños'] \n",
    "                        + 50491.79495176*df2['No_Cuartos'] + 2209.0995577*df2['Superficie'])"
   ]
  },
  {
   "cell_type": "code",
   "execution_count": 52,
   "metadata": {},
   "outputs": [],
   "source": [
    "df2 = df2.astype('int')"
   ]
  },
  {
   "cell_type": "code",
   "execution_count": 53,
   "metadata": {
    "scrolled": true
   },
   "outputs": [],
   "source": [
    "df2['Diferencia'] = df2.Precio - df2.Modelo_Precio"
   ]
  },
  {
   "cell_type": "code",
   "execution_count": 54,
   "metadata": {},
   "outputs": [
    {
     "data": {
      "text/html": [
       "<div>\n",
       "<style scoped>\n",
       "    .dataframe tbody tr th:only-of-type {\n",
       "        vertical-align: middle;\n",
       "    }\n",
       "\n",
       "    .dataframe tbody tr th {\n",
       "        vertical-align: top;\n",
       "    }\n",
       "\n",
       "    .dataframe thead th {\n",
       "        text-align: right;\n",
       "    }\n",
       "</style>\n",
       "<table border=\"1\" class=\"dataframe\">\n",
       "  <thead>\n",
       "    <tr style=\"text-align: right;\">\n",
       "      <th></th>\n",
       "      <th>Precio</th>\n",
       "      <th>Zona</th>\n",
       "      <th>No_Baños</th>\n",
       "      <th>No_Cuartos</th>\n",
       "      <th>Superficie</th>\n",
       "      <th>Modelo_Precio</th>\n",
       "      <th>Diferencia</th>\n",
       "    </tr>\n",
       "  </thead>\n",
       "  <tbody>\n",
       "    <tr>\n",
       "      <th>0</th>\n",
       "      <td>4628135</td>\n",
       "      <td>3</td>\n",
       "      <td>1</td>\n",
       "      <td>1</td>\n",
       "      <td>120</td>\n",
       "      <td>4616623</td>\n",
       "      <td>11512</td>\n",
       "    </tr>\n",
       "    <tr>\n",
       "      <th>1</th>\n",
       "      <td>2057167</td>\n",
       "      <td>1</td>\n",
       "      <td>2</td>\n",
       "      <td>3</td>\n",
       "      <td>581</td>\n",
       "      <td>2035369</td>\n",
       "      <td>21798</td>\n",
       "    </tr>\n",
       "    <tr>\n",
       "      <th>2</th>\n",
       "      <td>396796</td>\n",
       "      <td>0</td>\n",
       "      <td>1</td>\n",
       "      <td>1</td>\n",
       "      <td>99</td>\n",
       "      <td>388660</td>\n",
       "      <td>8136</td>\n",
       "    </tr>\n",
       "    <tr>\n",
       "      <th>3</th>\n",
       "      <td>2729222</td>\n",
       "      <td>2</td>\n",
       "      <td>1</td>\n",
       "      <td>4</td>\n",
       "      <td>232</td>\n",
       "      <td>2692422</td>\n",
       "      <td>36800</td>\n",
       "    </tr>\n",
       "    <tr>\n",
       "      <th>4</th>\n",
       "      <td>868960</td>\n",
       "      <td>0</td>\n",
       "      <td>1</td>\n",
       "      <td>2</td>\n",
       "      <td>283</td>\n",
       "      <td>845626</td>\n",
       "      <td>23334</td>\n",
       "    </tr>\n",
       "  </tbody>\n",
       "</table>\n",
       "</div>"
      ],
      "text/plain": [
       "    Precio  Zona  No_Baños  No_Cuartos  Superficie  Modelo_Precio  Diferencia\n",
       "0  4628135     3         1           1         120        4616623       11512\n",
       "1  2057167     1         2           3         581        2035369       21798\n",
       "2   396796     0         1           1          99         388660        8136\n",
       "3  2729222     2         1           4         232        2692422       36800\n",
       "4   868960     0         1           2         283         845626       23334"
      ]
     },
     "execution_count": 54,
     "metadata": {},
     "output_type": "execute_result"
    }
   ],
   "source": [
    "df2.head()"
   ]
  },
  {
   "cell_type": "code",
   "execution_count": 55,
   "metadata": {},
   "outputs": [],
   "source": [
    "df5 = df2[df2.Precio < 13935726]"
   ]
  },
  {
   "cell_type": "code",
   "execution_count": 56,
   "metadata": {},
   "outputs": [],
   "source": [
    "df5['Porcentaje_Error'] = round(abs((df5['Diferencia'] / df5['Precio'])*100), 4)"
   ]
  },
  {
   "cell_type": "code",
   "execution_count": 57,
   "metadata": {},
   "outputs": [
    {
     "data": {
      "text/html": [
       "<div>\n",
       "<style scoped>\n",
       "    .dataframe tbody tr th:only-of-type {\n",
       "        vertical-align: middle;\n",
       "    }\n",
       "\n",
       "    .dataframe tbody tr th {\n",
       "        vertical-align: top;\n",
       "    }\n",
       "\n",
       "    .dataframe thead th {\n",
       "        text-align: right;\n",
       "    }\n",
       "</style>\n",
       "<table border=\"1\" class=\"dataframe\">\n",
       "  <thead>\n",
       "    <tr style=\"text-align: right;\">\n",
       "      <th></th>\n",
       "      <th>Precio</th>\n",
       "      <th>Zona</th>\n",
       "      <th>No_Baños</th>\n",
       "      <th>No_Cuartos</th>\n",
       "      <th>Superficie</th>\n",
       "      <th>Modelo_Precio</th>\n",
       "      <th>Diferencia</th>\n",
       "      <th>Porcentaje_Error</th>\n",
       "    </tr>\n",
       "  </thead>\n",
       "  <tbody>\n",
       "    <tr>\n",
       "      <th>0</th>\n",
       "      <td>4628135</td>\n",
       "      <td>3</td>\n",
       "      <td>1</td>\n",
       "      <td>1</td>\n",
       "      <td>120</td>\n",
       "      <td>4616623</td>\n",
       "      <td>11512</td>\n",
       "      <td>0.2487</td>\n",
       "    </tr>\n",
       "    <tr>\n",
       "      <th>1</th>\n",
       "      <td>2057167</td>\n",
       "      <td>1</td>\n",
       "      <td>2</td>\n",
       "      <td>3</td>\n",
       "      <td>581</td>\n",
       "      <td>2035369</td>\n",
       "      <td>21798</td>\n",
       "      <td>1.0596</td>\n",
       "    </tr>\n",
       "    <tr>\n",
       "      <th>2</th>\n",
       "      <td>396796</td>\n",
       "      <td>0</td>\n",
       "      <td>1</td>\n",
       "      <td>1</td>\n",
       "      <td>99</td>\n",
       "      <td>388660</td>\n",
       "      <td>8136</td>\n",
       "      <td>2.0504</td>\n",
       "    </tr>\n",
       "    <tr>\n",
       "      <th>3</th>\n",
       "      <td>2729222</td>\n",
       "      <td>2</td>\n",
       "      <td>1</td>\n",
       "      <td>4</td>\n",
       "      <td>232</td>\n",
       "      <td>2692422</td>\n",
       "      <td>36800</td>\n",
       "      <td>1.3484</td>\n",
       "    </tr>\n",
       "    <tr>\n",
       "      <th>4</th>\n",
       "      <td>868960</td>\n",
       "      <td>0</td>\n",
       "      <td>1</td>\n",
       "      <td>2</td>\n",
       "      <td>283</td>\n",
       "      <td>845626</td>\n",
       "      <td>23334</td>\n",
       "      <td>2.6853</td>\n",
       "    </tr>\n",
       "  </tbody>\n",
       "</table>\n",
       "</div>"
      ],
      "text/plain": [
       "    Precio  Zona  No_Baños  No_Cuartos  Superficie  Modelo_Precio  Diferencia  \\\n",
       "0  4628135     3         1           1         120        4616623       11512   \n",
       "1  2057167     1         2           3         581        2035369       21798   \n",
       "2   396796     0         1           1          99         388660        8136   \n",
       "3  2729222     2         1           4         232        2692422       36800   \n",
       "4   868960     0         1           2         283         845626       23334   \n",
       "\n",
       "   Porcentaje_Error  \n",
       "0            0.2487  \n",
       "1            1.0596  \n",
       "2            2.0504  \n",
       "3            1.3484  \n",
       "4            2.6853  "
      ]
     },
     "execution_count": 57,
     "metadata": {},
     "output_type": "execute_result"
    }
   ],
   "source": [
    "df5.head()"
   ]
  },
  {
   "cell_type": "code",
   "execution_count": 58,
   "metadata": {},
   "outputs": [
    {
     "name": "stdout",
     "output_type": "stream",
     "text": [
      "Error máximo:  4.9074 %\n",
      "Error mínimo:  0.0005 %\n"
     ]
    }
   ],
   "source": [
    "print(\"Error máximo: \", df5.Porcentaje_Error[df5.Porcentaje_Error.idxmax()], \"%\")\n",
    "print(\"Error mínimo: \", df5.Porcentaje_Error[df5.Porcentaje_Error.idxmin()], \"%\")"
   ]
  },
  {
   "cell_type": "markdown",
   "metadata": {},
   "source": [
    "### El modelo es muy bueno. Procedo a continuar con la estimación del precio de la casa objetivo:"
   ]
  },
  {
   "cell_type": "markdown",
   "metadata": {},
   "source": [
    "#### Características que pedían:  zona 3, baños 2, recámaras 4, superficie 300$m^2$"
   ]
  },
  {
   "cell_type": "code",
   "execution_count": 59,
   "metadata": {},
   "outputs": [
    {
     "name": "stdout",
     "output_type": "stream",
     "text": [
      "Caraterísticas de la casa: \n",
      "\tZona      =  3\n",
      "\tBaños     =  2\n",
      "\tCuartos   =  4\n",
      "\tSupeficie =  300\n",
      "\tPrecio    =  $ 5182057\n"
     ]
    }
   ],
   "source": [
    "casa_objetivo = precio_mejor_modelo(3,2,4,300)"
   ]
  },
  {
   "cell_type": "markdown",
   "metadata": {},
   "source": [
    "### Una casa con las características anteriores costaría aproximadamente  $ \\$5,182,057 $"
   ]
  },
  {
   "cell_type": "markdown",
   "metadata": {},
   "source": [
    "##### Características de la casa 3: zona 2, 2 baños, 2 recámaras, 89$m^2$"
   ]
  },
  {
   "cell_type": "code",
   "execution_count": 60,
   "metadata": {},
   "outputs": [
    {
     "name": "stdout",
     "output_type": "stream",
     "text": [
      "Caraterísticas de la casa: \n",
      "\tZona      =  2\n",
      "\tBaños     =  2\n",
      "\tCuartos   =  2\n",
      "\tSupeficie =  89\n",
      "\tPrecio    =  $ 2291858\n"
     ]
    }
   ],
   "source": [
    "costo_1 = precio_mejor_modelo(2,2,2,89)"
   ]
  },
  {
   "cell_type": "code",
   "execution_count": null,
   "metadata": {},
   "outputs": [],
   "source": []
  }
 ],
 "metadata": {
  "kernelspec": {
   "display_name": "Python 3",
   "language": "python",
   "name": "python3"
  },
  "language_info": {
   "codemirror_mode": {
    "name": "ipython",
    "version": 3
   },
   "file_extension": ".py",
   "mimetype": "text/x-python",
   "name": "python",
   "nbconvert_exporter": "python",
   "pygments_lexer": "ipython3",
   "version": "3.7.0"
  }
 },
 "nbformat": 4,
 "nbformat_minor": 2
}
